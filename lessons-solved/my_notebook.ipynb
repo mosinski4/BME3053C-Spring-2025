{
 "cells": [
  {
   "cell_type": "code",
   "execution_count": null,
   "metadata": {},
   "outputs": [],
   "source": [
    "#from my_module import add, subtract, multiply, divide\n",
    "   \n",
    "#print(add(5, 3))  # Output: 8"
   ]
  },
  {
   "cell_type": "code",
   "execution_count": 3,
   "metadata": {},
   "outputs": [],
   "source": [
    "import sys\n",
    "import os\n",
    "import importlib\n",
    "module_path='/workspaces/BME3053C-Spring-2025'\n",
    "# Add the directory containing your module to the Python path\n",
    "if module_path not in sys.path:\n",
    "    sys.path.append(module_path)\n",
    "import importlib\n",
    "import my_module\n",
    "   \n",
    "   # Reload the specific submodule\n",
    "importlib.reload(my_module.math_operations)\n",
    "   \n",
    "   # Then reload the main module\n",
    "importlib.reload(my_module)\n",
    "   \n",
    "   # Now import the updated functions\n",
    "from my_module import add, subtract, multiply, divide"
   ]
  }
 ],
 "metadata": {
  "kernelspec": {
   "display_name": "Python 3",
   "language": "python",
   "name": "python3"
  },
  "language_info": {
   "codemirror_mode": {
    "name": "ipython",
    "version": 3
   },
   "file_extension": ".py",
   "mimetype": "text/x-python",
   "name": "python",
   "nbconvert_exporter": "python",
   "pygments_lexer": "ipython3",
   "version": "3.12.1"
  }
 },
 "nbformat": 4,
 "nbformat_minor": 2
}
