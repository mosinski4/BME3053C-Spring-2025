{
  "nbformat": 4,
  "nbformat_minor": 0,
  "metadata": {
    "colab": {
      "provenance": [],
      "include_colab_link": true
    },
    "kernelspec": {
      "name": "python3",
      "display_name": "Python 3"
    },
    "language_info": {
      "name": "python"
    }
  },
  "cells": [
    {
      "cell_type": "markdown",
      "metadata": {
        "id": "view-in-github",
        "colab_type": "text"
      },
      "source": [
        "<a href=\"https://colab.research.google.com/github/mosinski4/BME3053C-Spring-2025/blob/main/lessons-solved/03_Matplotlib_and_Numpy_02_10_25.ipynb\" target=\"_parent\"><img src=\"https://colab.research.google.com/assets/colab-badge.svg\" alt=\"Open In Colab\"/></a>"
      ]
    },
    {
      "cell_type": "markdown",
      "source": [
        "#BME3053C - Computer Applications for BME\n",
        "\n",
        "<br/>\n",
        "\n",
        "<h1 align=\"center\">Matplotlib and Numpy</h1>\n",
        "\n",
        "---\n",
        "\n",
        "<center><h2>Lesson 03</h2></center>\n",
        "\n",
        "\n",
        "[![Open In Colab](https://colab.research.google.com/assets/colab-badge.svg)](https://colab.research.google.com/github/uf-bme/bme3053c/blob/main/lessons/03_Matplotlib_and_Numpy.ipynb)"
      ],
      "metadata": {
        "id": "uXompUvJn9dG"
      }
    },
    {
      "cell_type": "markdown",
      "source": [
        "#[Matplotlib](https://matplotlib.org/)"
      ],
      "metadata": {
        "id": "8xcwpt7G_v7q"
      }
    },
    {
      "cell_type": "markdown",
      "source": [
        "* Matplotlib is a widely used Python library for creating static, interactive, and animated visualizations, primarily for 2D plotting. It is a core tool for data visualization in scientific computing and data analysis.\n",
        "* Matplotlib was created to provide a MATLAB-like plotting environment for Python. It has since evolved into a powerful and versatile library for a wide range of plotting needs.\n",
        "* Supports basic plot types, including line plots, scatter plots, bar charts, histograms, and pie charts. These can be created with simple function calls like [```plt.plot()```](https://matplotlib.org/stable/api/_as_gen/matplotlib.pyplot.plot.html), [```plt.scatter()```](https://matplotlib.org/stable/api/_as_gen/matplotlib.pyplot.scatter.html), [```plt.bar()```](https://matplotlib.org/stable/api/_as_gen/matplotlib.pyplot.bar.html).\n",
        "* Allows extensive plot customization, including control over axes, gridlines, labels, titles, colors, line styles, and markers. You can fine-tune your visualizations to suit specific needs or preferences.\n",
        "* Plots created in Matplotlib can be saved in various formats, including PNG, PDF, SVG, and more, using [```plt.savefig()```](https://matplotlib.org/stable/api/_as_gen/matplotlib.pyplot.savefig.html).\n",
        "* Plots can be displayed using [```plt.show()```](https://matplotlib.org/stable/api/_as_gen/matplotlib.pyplot.show.html)\n"
      ],
      "metadata": {
        "id": "uadbnMkR_xr_"
      }
    },
    {
      "cell_type": "markdown",
      "source": [
        "##Importing Matplotlib's [pyplot](https://matplotlib.org/3.5.3/api/_as_gen/matplotlib.pyplot.html) module\n",
        "\n",
        "\n",
        "* When importing libraries, you can change their name using ```as```\n",
        "  * For example, ```import x as y``` will import library x, which can be accessed using ```y.some_function()```  \n",
        "\n",
        "The pyplot module is usually imported as ```plt```\n",
        "\n",
        "```\n",
        "import matplotlib.pyplot as plt\n",
        "```\n"
      ],
      "metadata": {
        "id": "-ec-4T-1VGfh"
      }
    },
    {
      "cell_type": "code",
      "source": [
        "import matplotlib.pyplot as plt\n",
        "\n"
      ],
      "metadata": {
        "id": "qGfufXJ6Cp9X"
      },
      "execution_count": 5,
      "outputs": []
    },
    {
      "cell_type": "code",
      "source": [
        "my_list=[1, 2, 3, 3, 4, 5, 4]\n",
        "plt.plot(my_list)\n",
        "plt.show()"
      ],
      "metadata": {
        "id": "nlCNcT6PBZPk"
      },
      "execution_count": null,
      "outputs": []
    },
    {
      "cell_type": "markdown",
      "source": [
        "##Labeling axes, title and adding a legend\n",
        "* [```plt.xlabel```](https://matplotlib.org/stable/api/_as_gen/matplotlib.pyplot.xlabel.html) and [```plt.ylabel```](https://matplotlib.org/stable/api/_as_gen/matplotlib.pyplot.ylabel.html) These functions are used to label the x-axis and y-axis of a plot.\n",
        "  * provides important context that helps the reader understand what the plot’s axes represent (e.g., time, temperature, frequency).\n",
        "\n",
        "* [```plt.legend()```](https://matplotlib.org/stable/api/_as_gen/matplotlib.pyplot.legend.html) adds a legend to the plot, explaining what each line, marker, or series represents. This is crucial when plotting multiple datasets or elements to differentiate between them clearly.\n",
        "  * You can provide a ```label``` argument when using ```plt.plot``` that will be listed in the legend.\n",
        "  * The ```loc``` parameter can be used to set the position of the legend."
      ],
      "metadata": {
        "id": "HDETdWqLCl2C"
      }
    },
    {
      "cell_type": "code",
      "source": [
        "plt.ylabel('Y Values')\n",
        "plt.xlabel('X Values')"
      ],
      "metadata": {
        "id": "dIJrtLHGC2H_"
      },
      "execution_count": null,
      "outputs": []
    },
    {
      "cell_type": "code",
      "source": [
        "patient_1_data=[1, 2, 3, 3, 4]\n",
        "patient_2_data=[2, 3,5, 4, 5]\n",
        "\n",
        "plt.plot(patient_1_data,label=\"Patient 1\")\n",
        "plt.plot(patient_2_data,label=\"Patient 2\")\n",
        "plt.title('My Title')\n",
        "\n",
        "plt.xlabel('X Values')\n",
        "plt.ylabel('Y Values')\n",
        "plt.legend( loc='upper right')\n",
        "\n",
        "plt.show()"
      ],
      "metadata": {
        "id": "-TAeWQFcCnox"
      },
      "execution_count": null,
      "outputs": []
    },
    {
      "cell_type": "markdown",
      "source": [
        "##Changing the style of individual plots\n",
        "\n",
        "* The linestyle parameter in [```plt.plot()```](https://matplotlib.org/stable/api/_as_gen/matplotlib.pyplot.plot.html) can change the appearance of the plot's line.\n",
        "* The marker parameter is used to define the marker style for individual data points.\n",
        "* The color parameter can be used to specify a specific color for each line"
      ],
      "metadata": {
        "id": "xLfmUykSH2cX"
      }
    },
    {
      "cell_type": "code",
      "source": [
        "patient_1_data=[1, 2, 3, 3, 4]\n",
        "patient_2_data=[2, 3,5, 4, 5]\n",
        "\n",
        "plt.plot(patient_1_data,label=\"Patient 1\",marker='s')\n",
        "plt.plot(patient_2_data,label=\"Patient 2\",linestyle='-.',color='r')\n",
        "plt.title('My Title')\n",
        "\n",
        "plt.xlabel('X Values')\n",
        "plt.ylabel('Y Values')\n",
        "plt.legend( loc='upper right')\n",
        "\n",
        "plt.show()"
      ],
      "metadata": {
        "id": "65CbPo-pMYiF"
      },
      "execution_count": null,
      "outputs": []
    },
    {
      "cell_type": "markdown",
      "source": [
        "#### ✏️**Exercise**\n",
        "You are analyzing a dataset that contains heart rate measurements taken every minute for a 30-minute exercise session. The data includes the heart rate at each minute and the corresponding time in minutes. Your task is to visualize the heart rate changes over time and highlight key periods where the heart rate was either too low or too high, indicating potential cardiovascular concerns.\n",
        "\n",
        "1. Create a function that plots the heart rate data over time. The function should receive the ```heart_rate``` list as an input.\n",
        "2. Mark the heart rate levels that are considered \"too low\" (< 60 beats per minute) and \"too high\" (> 160 beats per minute).\n",
        "3. Customize the plot with different styles for each line, a title, labeled axes, and a legend.\n",
        "\n",
        "* **Hint #1:** [```plt.axhline```](https://matplotlib.org/stable/api/_as_gen/matplotlib.pyplot.axhline.html) can be used to draw horizontal lines. It accepts similar arguments as ```plt.plot``` for styling.\n"
      ],
      "metadata": {
        "id": "Az0A5X6TBgdE"
      }
    },
    {
      "cell_type": "code",
      "source": [
        "heart_rate = [72, 75, 78, 80, 85, 90, 95, 100, 105, 110, 115, 120, 125, 130,\n",
        "              135, 140, 145, 150, 155, 160, 165, 170, 175, 180, 178, 175, 172,\n",
        "              160, 150, 140, 130]  # Heart rate in beats per minute (bpm)\n",
        "\n"
      ],
      "metadata": {
        "id": "NyZnSJqL_yUI"
      },
      "execution_count": null,
      "outputs": []
    },
    {
      "cell_type": "markdown",
      "source": [
        "#Numpy"
      ],
      "metadata": {
        "id": "iBHmY-BGqb89"
      }
    },
    {
      "cell_type": "markdown",
      "source": [
        "\n",
        "NumPy is a powerful Python library used for numerical computing, providing support for arrays and matrices, along with a wide range of mathematical functions. NumPy is widely used in data science, machine learning, scientific computing, and engineering, forming the foundation for libraries like Pandas, SciPy, and TensorFlow.\n",
        "\n",
        "* **Key Feature**: N-dimensional Arrays ([numpy.ndarray](https://numpy.org/doc/stable/reference/generated/numpy.ndarray.html))\n",
        "  * NumPy's primary feature is its ```ndarray```, a multidimensional array that allows for efficient data manipulation and storage.\n",
        "  * Unlike Python lists, NumPy arrays are of a fixed size and contain elements of the same type.\n",
        "  * You can easily create arrays using [```np.array()```](https://numpy.org/doc/stable/reference/generated/numpy.array.html), [```np.zeros()```](https://numpy.org/doc/stable/reference/generated/numpy.zeros.html), [```np.ones()```](https://numpy.org/doc/stable/reference/generated/numpy.ones.html).\n",
        "  * NumPy supports element-wise operations, allowing you to perform arithmetic directly on arrays without needing loops.\n",
        "  * NumPy arrays can be sliced and indexed in various ways, similar to Python lists, allowing for easy access and modification of elements.\n",
        "* NumPy provides powerful aggregation functions like [```np.sum()```](https://numpy.org/doc/stable/reference/generated/numpy.sum.html), [```np.mean()```](https://numpy.org/doc/stable/reference/generated/numpy.mean.html), and [```np.max()```](https://numpy.org/doc/stable/reference/generated/numpy.max.html) that allow you to compute statistics across entire arrays efficiently."
      ],
      "metadata": {
        "id": "j-Es3BTHqYYU"
      }
    },
    {
      "cell_type": "markdown",
      "source": [
        "##Importing Numpy\n",
        "The Numpy is usually imported as np\n",
        "```\n",
        "import numpy as np\n",
        "```"
      ],
      "metadata": {
        "id": "IfGOrkWUsRBL"
      }
    },
    {
      "cell_type": "code",
      "source": [
        "import numpy as np\n"
      ],
      "metadata": {
        "id": "85fP1KB0sbsN"
      },
      "execution_count": 3,
      "outputs": []
    },
    {
      "cell_type": "markdown",
      "source": [
        "##Creating Arrays\n"
      ],
      "metadata": {
        "id": "EHmXIrwjTvJC"
      }
    },
    {
      "cell_type": "code",
      "source": [
        "my_array=np.array([4,5,6])\n",
        "print('my_array:',my_array)\n",
        "print('array mean: ', np.mean(my_array))\n",
        "print('array sum: ', np.sum(my_array))\n",
        "print('array min: ', np.min(my_array))"
      ],
      "metadata": {
        "id": "ZSYDWTxJTyZ4",
        "outputId": "d4821114-23a7-4dae-b514-593d82857138",
        "colab": {
          "base_uri": "https://localhost:8080/"
        }
      },
      "execution_count": 4,
      "outputs": [
        {
          "output_type": "stream",
          "name": "stdout",
          "text": [
            "my_array: [4 5 6]\n",
            "array mean:  5.0\n",
            "array sum:  15\n",
            "array min:  4\n"
          ]
        }
      ]
    },
    {
      "cell_type": "markdown",
      "source": [
        "##Multidimensional Arrays\n",
        "* For multidimensional arrays (e.g., 2D, 3D arrays), you use a comma-separated list of indices inside square brackets to access specific elements. The first index refers to the row, the second index to the column, and so on for higher dimensions."
      ],
      "metadata": {
        "id": "b_VZk0kASrRi"
      }
    },
    {
      "cell_type": "code",
      "source": [
        "arr = np.array([[1, 2, 3],\n",
        "                [4, 5, 6]])\n",
        "print(arr[1, 2])\n",
        "print('arr shape:',np.shape(arr))"
      ],
      "metadata": {
        "id": "M8KuEc15UZyM"
      },
      "execution_count": null,
      "outputs": []
    },
    {
      "cell_type": "markdown",
      "source": [
        "##Broadcasting Arrays\n",
        "\n",
        "* Broadcasting allows NumPy to handle operations between arrays of different shapes, making it flexible for mathematical operations without needing to reshape arrays manually."
      ],
      "metadata": {
        "id": "cWuWuy6nxkwH"
      }
    },
    {
      "cell_type": "code",
      "source": [
        "A = np.array([[1, 2, 3],\n",
        "              [4, 5, 6],\n",
        "              [7, 8, 9]])\n",
        "\n",
        "\n",
        "B = np.array([10, 20, 30])\n",
        "\n",
        "# Adding A and B\n",
        "C = A + B\n",
        "\n",
        "print(\"2D array A:\")\n",
        "print(A)\n",
        "print(\"shape of A:\",np.shape(A))\n",
        "print(\"\\n1D array B:\")\n",
        "print(B)\n",
        "print(\"shape of B:\",np.shape(B))\n",
        "print(\"\\nResult of A + B (Broadcasting):\")\n",
        "print(C)\n",
        "print(\"shape of C:\",np.shape(C))\n"
      ],
      "metadata": {
        "id": "Lce8v4BuxhBD"
      },
      "execution_count": null,
      "outputs": []
    },
    {
      "cell_type": "code",
      "source": [
        "A = np.array([[1, 2, 3],\n",
        "              [4, 5, 6],\n",
        "              [7, 8, 9]])\n",
        "\n",
        "B = np.array([[10, 20, 30]])\n",
        "\n",
        "# Adding A and B\n",
        "C = A + B\n",
        "\n",
        "print(\"2D array A:\")\n",
        "print(A)\n",
        "\n",
        "print(\"\\n1D array B:\")\n",
        "print(B)\n",
        "\n",
        "print(\"\\nResult of A + B (Broadcasting):\")\n",
        "print(C)"
      ],
      "metadata": {
        "id": "B-_Ia3Q_RujK"
      },
      "execution_count": null,
      "outputs": []
    },
    {
      "cell_type": "markdown",
      "source": [
        "#### ✏️**Exercise**\n",
        "You have collected EMG (electromyography) signals over time during a clinical trial. The data is represented in a 2D NumPy array, where column corresponds to a time point (1000 time points in total). Additionally, you have a time-varying gain factor that needs to be applied to each muscle's EMG signal at every time point. The gain factor increases over time and is represented by a 1D array with 1000 values.\n",
        "\n",
        "1. Create a function that multiplies the gain to each muscles EMG signal and returns the adjusted emg signal.\n",
        "2. Follow the instructions in [this link](https://matplotlib.org/stable/gallery/subplots_axes_and_figures/share_axis_lims_views.html#sphx-glr-gallery-subplots-axes-and-figures-share-axis-lims-views-py) to display the previous and adjusted signals using [subplots](https://matplotlib.org/stable/api/_as_gen/matplotlib.pyplot.subplot.html)\n",
        "3. Set the y limits of each subplot to be equivalent using [```set_ylim```](https://matplotlib.org/stable/api/_as_gen/matplotlib.axes.Axes.set_ylim.html)."
      ],
      "metadata": {
        "id": "dLApR0oFXC0Q"
      }
    },
    {
      "cell_type": "code",
      "source": [
        "emg_data = np.random.randn(1000) * 100  # Generating random EMG-like data\n",
        "\n",
        "# Increasing gain factor\n",
        "gain_factor = np.linspace(0.1, 5, 1000)\n",
        "def apply_gain(signal,gain):\n",
        "  new_signal= signal * gain\n",
        "  return new_signal\n",
        "def plot_signal(signal,gain):\n",
        "  transformed_signal=apply_gain(signal,gain)\n",
        "  signal_boud=np.max(np.abs(signal))\n",
        "  singal_bound=np.max(np.abs(transformed_signal))\n",
        "  ax1 = plt.subplot(2, 1, 1)\n",
        "  ax2 = plt.subplot(2, 1, 2,sharex=ax1)\n",
        "  ax1.plot(signal)\n",
        "  ax1.set_ylim(-signal_boud,singal_bound)\n",
        "  ax2.plot(transformed_signal)\n",
        "\n",
        "  plot_signal(emg_data,gain_factor)\n",
        "  ax2.set_ylim(-signal_boud,singal_bound)\n",
        "\n",
        "print(gain_factor)\n",
        "\n",
        "\n"
      ],
      "metadata": {
        "id": "fWJOCMQWXDs9",
        "outputId": "23b0f5df-53a6-4b39-ff9f-4d2920625327",
        "colab": {
          "base_uri": "https://localhost:8080/"
        }
      },
      "execution_count": 11,
      "outputs": [
        {
          "output_type": "stream",
          "name": "stdout",
          "text": [
            "[0.1        0.1049049  0.10980981 0.11471471 0.11961962 0.12452452\n",
            " 0.12942943 0.13433433 0.13923924 0.14414414 0.14904905 0.15395395\n",
            " 0.15885886 0.16376376 0.16866867 0.17357357 0.17847848 0.18338338\n",
            " 0.18828829 0.19319319 0.1980981  0.203003   0.20790791 0.21281281\n",
            " 0.21771772 0.22262262 0.22752753 0.23243243 0.23733734 0.24224224\n",
            " 0.24714715 0.25205205 0.25695696 0.26186186 0.26676677 0.27167167\n",
            " 0.27657658 0.28148148 0.28638639 0.29129129 0.2961962  0.3011011\n",
            " 0.30600601 0.31091091 0.31581582 0.32072072 0.32562563 0.33053053\n",
            " 0.33543544 0.34034034 0.34524525 0.35015015 0.35505506 0.35995996\n",
            " 0.36486486 0.36976977 0.37467467 0.37957958 0.38448448 0.38938939\n",
            " 0.39429429 0.3991992  0.4041041  0.40900901 0.41391391 0.41881882\n",
            " 0.42372372 0.42862863 0.43353353 0.43843844 0.44334334 0.44824825\n",
            " 0.45315315 0.45805806 0.46296296 0.46786787 0.47277277 0.47767768\n",
            " 0.48258258 0.48748749 0.49239239 0.4972973  0.5022022  0.50710711\n",
            " 0.51201201 0.51691692 0.52182182 0.52672673 0.53163163 0.53653654\n",
            " 0.54144144 0.54634635 0.55125125 0.55615616 0.56106106 0.56596597\n",
            " 0.57087087 0.57577578 0.58068068 0.58558559 0.59049049 0.5953954\n",
            " 0.6003003  0.60520521 0.61011011 0.61501502 0.61991992 0.62482482\n",
            " 0.62972973 0.63463463 0.63953954 0.64444444 0.64934935 0.65425425\n",
            " 0.65915916 0.66406406 0.66896897 0.67387387 0.67877878 0.68368368\n",
            " 0.68858859 0.69349349 0.6983984  0.7033033  0.70820821 0.71311311\n",
            " 0.71801802 0.72292292 0.72782783 0.73273273 0.73763764 0.74254254\n",
            " 0.74744745 0.75235235 0.75725726 0.76216216 0.76706707 0.77197197\n",
            " 0.77687688 0.78178178 0.78668669 0.79159159 0.7964965  0.8014014\n",
            " 0.80630631 0.81121121 0.81611612 0.82102102 0.82592593 0.83083083\n",
            " 0.83573574 0.84064064 0.84554555 0.85045045 0.85535536 0.86026026\n",
            " 0.86516517 0.87007007 0.87497497 0.87987988 0.88478478 0.88968969\n",
            " 0.89459459 0.8994995  0.9044044  0.90930931 0.91421421 0.91911912\n",
            " 0.92402402 0.92892893 0.93383383 0.93873874 0.94364364 0.94854855\n",
            " 0.95345345 0.95835836 0.96326326 0.96816817 0.97307307 0.97797798\n",
            " 0.98288288 0.98778779 0.99269269 0.9975976  1.0025025  1.00740741\n",
            " 1.01231231 1.01721722 1.02212212 1.02702703 1.03193193 1.03683684\n",
            " 1.04174174 1.04664665 1.05155155 1.05645646 1.06136136 1.06626627\n",
            " 1.07117117 1.07607608 1.08098098 1.08588589 1.09079079 1.0956957\n",
            " 1.1006006  1.10550551 1.11041041 1.11531532 1.12022022 1.12512513\n",
            " 1.13003003 1.13493493 1.13983984 1.14474474 1.14964965 1.15455455\n",
            " 1.15945946 1.16436436 1.16926927 1.17417417 1.17907908 1.18398398\n",
            " 1.18888889 1.19379379 1.1986987  1.2036036  1.20850851 1.21341341\n",
            " 1.21831832 1.22322322 1.22812813 1.23303303 1.23793794 1.24284284\n",
            " 1.24774775 1.25265265 1.25755756 1.26246246 1.26736737 1.27227227\n",
            " 1.27717718 1.28208208 1.28698699 1.29189189 1.2967968  1.3017017\n",
            " 1.30660661 1.31151151 1.31641642 1.32132132 1.32622623 1.33113113\n",
            " 1.33603604 1.34094094 1.34584585 1.35075075 1.35565566 1.36056056\n",
            " 1.36546547 1.37037037 1.37527528 1.38018018 1.38508509 1.38998999\n",
            " 1.39489489 1.3997998  1.4047047  1.40960961 1.41451451 1.41941942\n",
            " 1.42432432 1.42922923 1.43413413 1.43903904 1.44394394 1.44884885\n",
            " 1.45375375 1.45865866 1.46356356 1.46846847 1.47337337 1.47827828\n",
            " 1.48318318 1.48808809 1.49299299 1.4978979  1.5028028  1.50770771\n",
            " 1.51261261 1.51751752 1.52242242 1.52732733 1.53223223 1.53713714\n",
            " 1.54204204 1.54694695 1.55185185 1.55675676 1.56166166 1.56656657\n",
            " 1.57147147 1.57637638 1.58128128 1.58618619 1.59109109 1.595996\n",
            " 1.6009009  1.60580581 1.61071071 1.61561562 1.62052052 1.62542543\n",
            " 1.63033033 1.63523524 1.64014014 1.64504505 1.64994995 1.65485485\n",
            " 1.65975976 1.66466466 1.66956957 1.67447447 1.67937938 1.68428428\n",
            " 1.68918919 1.69409409 1.698999   1.7039039  1.70880881 1.71371371\n",
            " 1.71861862 1.72352352 1.72842843 1.73333333 1.73823824 1.74314314\n",
            " 1.74804805 1.75295295 1.75785786 1.76276276 1.76766767 1.77257257\n",
            " 1.77747748 1.78238238 1.78728729 1.79219219 1.7970971  1.802002\n",
            " 1.80690691 1.81181181 1.81671672 1.82162162 1.82652653 1.83143143\n",
            " 1.83633634 1.84124124 1.84614615 1.85105105 1.85595596 1.86086086\n",
            " 1.86576577 1.87067067 1.87557558 1.88048048 1.88538539 1.89029029\n",
            " 1.8951952  1.9001001  1.90500501 1.90990991 1.91481481 1.91971972\n",
            " 1.92462462 1.92952953 1.93443443 1.93933934 1.94424424 1.94914915\n",
            " 1.95405405 1.95895896 1.96386386 1.96876877 1.97367367 1.97857858\n",
            " 1.98348348 1.98838839 1.99329329 1.9981982  2.0031031  2.00800801\n",
            " 2.01291291 2.01781782 2.02272272 2.02762763 2.03253253 2.03743744\n",
            " 2.04234234 2.04724725 2.05215215 2.05705706 2.06196196 2.06686687\n",
            " 2.07177177 2.07667668 2.08158158 2.08648649 2.09139139 2.0962963\n",
            " 2.1012012  2.10610611 2.11101101 2.11591592 2.12082082 2.12572573\n",
            " 2.13063063 2.13553554 2.14044044 2.14534535 2.15025025 2.15515516\n",
            " 2.16006006 2.16496496 2.16986987 2.17477477 2.17967968 2.18458458\n",
            " 2.18948949 2.19439439 2.1992993  2.2042042  2.20910911 2.21401401\n",
            " 2.21891892 2.22382382 2.22872873 2.23363363 2.23853854 2.24344344\n",
            " 2.24834835 2.25325325 2.25815816 2.26306306 2.26796797 2.27287287\n",
            " 2.27777778 2.28268268 2.28758759 2.29249249 2.2973974  2.3023023\n",
            " 2.30720721 2.31211211 2.31701702 2.32192192 2.32682683 2.33173173\n",
            " 2.33663664 2.34154154 2.34644645 2.35135135 2.35625626 2.36116116\n",
            " 2.36606607 2.37097097 2.37587588 2.38078078 2.38568569 2.39059059\n",
            " 2.3954955  2.4004004  2.40530531 2.41021021 2.41511512 2.42002002\n",
            " 2.42492492 2.42982983 2.43473473 2.43963964 2.44454454 2.44944945\n",
            " 2.45435435 2.45925926 2.46416416 2.46906907 2.47397397 2.47887888\n",
            " 2.48378378 2.48868869 2.49359359 2.4984985  2.5034034  2.50830831\n",
            " 2.51321321 2.51811812 2.52302302 2.52792793 2.53283283 2.53773774\n",
            " 2.54264264 2.54754755 2.55245245 2.55735736 2.56226226 2.56716717\n",
            " 2.57207207 2.57697698 2.58188188 2.58678679 2.59169169 2.5965966\n",
            " 2.6015015  2.60640641 2.61131131 2.61621622 2.62112112 2.62602603\n",
            " 2.63093093 2.63583584 2.64074074 2.64564565 2.65055055 2.65545546\n",
            " 2.66036036 2.66526527 2.67017017 2.67507508 2.67997998 2.68488488\n",
            " 2.68978979 2.69469469 2.6995996  2.7045045  2.70940941 2.71431431\n",
            " 2.71921922 2.72412412 2.72902903 2.73393393 2.73883884 2.74374374\n",
            " 2.74864865 2.75355355 2.75845846 2.76336336 2.76826827 2.77317317\n",
            " 2.77807808 2.78298298 2.78788789 2.79279279 2.7976977  2.8026026\n",
            " 2.80750751 2.81241241 2.81731732 2.82222222 2.82712713 2.83203203\n",
            " 2.83693694 2.84184184 2.84674675 2.85165165 2.85655656 2.86146146\n",
            " 2.86636637 2.87127127 2.87617618 2.88108108 2.88598599 2.89089089\n",
            " 2.8957958  2.9007007  2.90560561 2.91051051 2.91541542 2.92032032\n",
            " 2.92522523 2.93013013 2.93503504 2.93993994 2.94484484 2.94974975\n",
            " 2.95465465 2.95955956 2.96446446 2.96936937 2.97427427 2.97917918\n",
            " 2.98408408 2.98898899 2.99389389 2.9987988  3.0037037  3.00860861\n",
            " 3.01351351 3.01841842 3.02332332 3.02822823 3.03313313 3.03803804\n",
            " 3.04294294 3.04784785 3.05275275 3.05765766 3.06256256 3.06746747\n",
            " 3.07237237 3.07727728 3.08218218 3.08708709 3.09199199 3.0968969\n",
            " 3.1018018  3.10670671 3.11161161 3.11651652 3.12142142 3.12632633\n",
            " 3.13123123 3.13613614 3.14104104 3.14594595 3.15085085 3.15575576\n",
            " 3.16066066 3.16556557 3.17047047 3.17537538 3.18028028 3.18518519\n",
            " 3.19009009 3.19499499 3.1998999  3.2048048  3.20970971 3.21461461\n",
            " 3.21951952 3.22442442 3.22932933 3.23423423 3.23913914 3.24404404\n",
            " 3.24894895 3.25385385 3.25875876 3.26366366 3.26856857 3.27347347\n",
            " 3.27837838 3.28328328 3.28818819 3.29309309 3.297998   3.3029029\n",
            " 3.30780781 3.31271271 3.31761762 3.32252252 3.32742743 3.33233233\n",
            " 3.33723724 3.34214214 3.34704705 3.35195195 3.35685686 3.36176176\n",
            " 3.36666667 3.37157157 3.37647648 3.38138138 3.38628629 3.39119119\n",
            " 3.3960961  3.401001   3.40590591 3.41081081 3.41571572 3.42062062\n",
            " 3.42552553 3.43043043 3.43533534 3.44024024 3.44514515 3.45005005\n",
            " 3.45495495 3.45985986 3.46476476 3.46966967 3.47457457 3.47947948\n",
            " 3.48438438 3.48928929 3.49419419 3.4990991  3.504004   3.50890891\n",
            " 3.51381381 3.51871872 3.52362362 3.52852853 3.53343343 3.53833834\n",
            " 3.54324324 3.54814815 3.55305305 3.55795796 3.56286286 3.56776777\n",
            " 3.57267267 3.57757758 3.58248248 3.58738739 3.59229229 3.5971972\n",
            " 3.6021021  3.60700701 3.61191191 3.61681682 3.62172172 3.62662663\n",
            " 3.63153153 3.63643644 3.64134134 3.64624625 3.65115115 3.65605606\n",
            " 3.66096096 3.66586587 3.67077077 3.67567568 3.68058058 3.68548549\n",
            " 3.69039039 3.6952953  3.7002002  3.70510511 3.71001001 3.71491491\n",
            " 3.71981982 3.72472472 3.72962963 3.73453453 3.73943944 3.74434434\n",
            " 3.74924925 3.75415415 3.75905906 3.76396396 3.76886887 3.77377377\n",
            " 3.77867868 3.78358358 3.78848849 3.79339339 3.7982983  3.8032032\n",
            " 3.80810811 3.81301301 3.81791792 3.82282282 3.82772773 3.83263263\n",
            " 3.83753754 3.84244244 3.84734735 3.85225225 3.85715716 3.86206206\n",
            " 3.86696697 3.87187187 3.87677678 3.88168168 3.88658659 3.89149149\n",
            " 3.8963964  3.9013013  3.90620621 3.91111111 3.91601602 3.92092092\n",
            " 3.92582583 3.93073073 3.93563564 3.94054054 3.94544545 3.95035035\n",
            " 3.95525526 3.96016016 3.96506507 3.96996997 3.97487487 3.97977978\n",
            " 3.98468468 3.98958959 3.99449449 3.9993994  4.0043043  4.00920921\n",
            " 4.01411411 4.01901902 4.02392392 4.02882883 4.03373373 4.03863864\n",
            " 4.04354354 4.04844845 4.05335335 4.05825826 4.06316316 4.06806807\n",
            " 4.07297297 4.07787788 4.08278278 4.08768769 4.09259259 4.0974975\n",
            " 4.1024024  4.10730731 4.11221221 4.11711712 4.12202202 4.12692693\n",
            " 4.13183183 4.13673674 4.14164164 4.14654655 4.15145145 4.15635636\n",
            " 4.16126126 4.16616617 4.17107107 4.17597598 4.18088088 4.18578579\n",
            " 4.19069069 4.1955956  4.2005005  4.20540541 4.21031031 4.21521522\n",
            " 4.22012012 4.22502503 4.22992993 4.23483483 4.23973974 4.24464464\n",
            " 4.24954955 4.25445445 4.25935936 4.26426426 4.26916917 4.27407407\n",
            " 4.27897898 4.28388388 4.28878879 4.29369369 4.2985986  4.3035035\n",
            " 4.30840841 4.31331331 4.31821822 4.32312312 4.32802803 4.33293293\n",
            " 4.33783784 4.34274274 4.34764765 4.35255255 4.35745746 4.36236236\n",
            " 4.36726727 4.37217217 4.37707708 4.38198198 4.38688689 4.39179179\n",
            " 4.3966967  4.4016016  4.40650651 4.41141141 4.41631632 4.42122122\n",
            " 4.42612613 4.43103103 4.43593594 4.44084084 4.44574575 4.45065065\n",
            " 4.45555556 4.46046046 4.46536537 4.47027027 4.47517518 4.48008008\n",
            " 4.48498498 4.48988989 4.49479479 4.4996997  4.5046046  4.50950951\n",
            " 4.51441441 4.51931932 4.52422422 4.52912913 4.53403403 4.53893894\n",
            " 4.54384384 4.54874875 4.55365365 4.55855856 4.56346346 4.56836837\n",
            " 4.57327327 4.57817818 4.58308308 4.58798799 4.59289289 4.5977978\n",
            " 4.6027027  4.60760761 4.61251251 4.61741742 4.62232232 4.62722723\n",
            " 4.63213213 4.63703704 4.64194194 4.64684685 4.65175175 4.65665666\n",
            " 4.66156156 4.66646647 4.67137137 4.67627628 4.68118118 4.68608609\n",
            " 4.69099099 4.6958959  4.7008008  4.70570571 4.71061061 4.71551552\n",
            " 4.72042042 4.72532533 4.73023023 4.73513514 4.74004004 4.74494494\n",
            " 4.74984985 4.75475475 4.75965966 4.76456456 4.76946947 4.77437437\n",
            " 4.77927928 4.78418418 4.78908909 4.79399399 4.7988989  4.8038038\n",
            " 4.80870871 4.81361361 4.81851852 4.82342342 4.82832833 4.83323323\n",
            " 4.83813814 4.84304304 4.84794795 4.85285285 4.85775776 4.86266266\n",
            " 4.86756757 4.87247247 4.87737738 4.88228228 4.88718719 4.89209209\n",
            " 4.896997   4.9019019  4.90680681 4.91171171 4.91661662 4.92152152\n",
            " 4.92642643 4.93133133 4.93623624 4.94114114 4.94604605 4.95095095\n",
            " 4.95585586 4.96076076 4.96566567 4.97057057 4.97547548 4.98038038\n",
            " 4.98528529 4.99019019 4.9950951  5.        ]\n"
          ]
        }
      ]
    },
    {
      "cell_type": "code",
      "source": [
        "print(np.max(np.abs(emg_data)))\n"
      ],
      "metadata": {
        "id": "E8X0B_0-InsZ",
        "outputId": "673b092b-91df-442d-f6df-46d8925ec992",
        "colab": {
          "base_uri": "https://localhost:8080/"
        }
      },
      "execution_count": 10,
      "outputs": [
        {
          "output_type": "stream",
          "name": "stdout",
          "text": [
            "355.0171166405553\n"
          ]
        }
      ]
    }
  ]
}